{
 "cells": [
  {
   "cell_type": "markdown",
   "metadata": {},
   "source": [
    "# Group 47\n",
    "## April 23, 2023\n",
    "#### Jerry Li: jil378@pitt.edu | Github: jerrymeche  \n",
    "#### Jingxian Liu: jil365@pitt.edu | Github: Jingxian\n"
   ]
  },
  {
   "cell_type": "markdown",
   "metadata": {},
   "source": [
    "### Introduction  \n",
    "\n",
    "Our project is to identify the best neighborhood in Pittsburgh. Using data from the Western Pennsylvania Regional Data Center (WPRDC), we create a data-driven argument to support our claim about the best neighborhood. Three metrics we selected to evaluate neighborhoods are Pittsburgh police arrest data (safety), K-12 enrollment (educational resources), and number of parks (places of public entertainment). By analyzing these factors, we aim to identify the neighborhood that offers the best quality of life for its residents. We explored a few alternative metrics that could be used to evaluate neighborhoods, including income, transit systems, and races. But we ultimately decided to focus on the three metrics mentioned above, as we felt they were most closely related to the quality of life of residents in a neighborhood.\n"
   ]
  },
  {
   "cell_type": "markdown",
   "metadata": {},
   "source": [
    "### Metrics\n",
    "* Police Incident Blotter: We used incident data as a proxy for safety, with the assumption that neighborhoods with lower incident rates are generally safer than those with higher incident rates.  \n",
    "link: https://data.wprdc.org/dataset/police-incident-blotter\n",
    "\n",
    "* Number of parks: Parks play a crucial role in enhancing the quality of life in a neighborhood. They provide recreational spaces and facilities for residents, making them an important factor in determining the overall quality of a neighborhood.  \n",
    "link: https://data.wprdc.org/dataset/parks\n",
    "\n",
    "* K-12 enrollment: The number of K12 enrollments can reflect the educational resources available in each neighborhood. We assume that neighborhoods with more enrolled students have better or more schools. This is a crucial factor for students and their parents.  \n",
    "link: https://data.wprdc.org/dataset/pittsburgh-public-schools-individualized-education-plan-iep"
   ]
  },
  {
   "cell_type": "markdown",
   "metadata": {},
   "source": [
    "### Top Neighborhoods\n",
    "We analyzed three sets of data to find the corresponding top neighborhoods in Pittsburgh. The following three bar charts show the corresponding data for these neighborhoods."
   ]
  },
  {
   "cell_type": "markdown",
   "metadata": {},
   "source": [
    "#### Police Incident Blotter\n",
    "![incident graph](Incident.png)"
   ]
  },
  {
   "cell_type": "markdown",
   "metadata": {},
   "source": [
    "#### K-12 Enrollment\n",
    "![K12](K12.png)"
   ]
  },
  {
   "cell_type": "markdown",
   "metadata": {},
   "source": [
    "#### Number of Parks\n",
    "![parks](Parks.png)"
   ]
  },
  {
   "cell_type": "markdown",
   "metadata": {},
   "source": [
    "### Best Neighborhood\n",
    "We considered security as the most crucial factor and assigned a weightage of 40% to it, and 30% to each of the other two factors. We assigned scores to each neighborhood based on its rank in the respective metric and then multiplied it by its corresponding weightage to obtain the overall score for the neighborhood. Finally, we ranked the neighborhoods based on their total scores to identify the top neighborhoods in Pittsburgh. The scores of top 10 neighborhoods are shown below."
   ]
  },
  {
   "cell_type": "code",
   "execution_count": 2,
   "metadata": {},
   "outputs": [
    {
     "data": {
      "text/html": [
       "<div>\n",
       "<style scoped>\n",
       "    .dataframe tbody tr th:only-of-type {\n",
       "        vertical-align: middle;\n",
       "    }\n",
       "\n",
       "    .dataframe tbody tr th {\n",
       "        vertical-align: top;\n",
       "    }\n",
       "\n",
       "    .dataframe thead th {\n",
       "        text-align: right;\n",
       "    }\n",
       "</style>\n",
       "<table border=\"1\" class=\"dataframe\">\n",
       "  <thead>\n",
       "    <tr style=\"text-align: right;\">\n",
       "      <th></th>\n",
       "      <th>Neighborhood</th>\n",
       "      <th>Arrest_score</th>\n",
       "      <th>K12_score</th>\n",
       "      <th>Park_score</th>\n",
       "      <th>Total_score</th>\n",
       "    </tr>\n",
       "  </thead>\n",
       "  <tbody>\n",
       "    <tr>\n",
       "      <th>0</th>\n",
       "      <td>East Liberty</td>\n",
       "      <td>81.100478</td>\n",
       "      <td>50.762712</td>\n",
       "      <td>100.000000</td>\n",
       "      <td>77.669005</td>\n",
       "    </tr>\n",
       "    <tr>\n",
       "      <th>1</th>\n",
       "      <td>Beechview</td>\n",
       "      <td>86.842105</td>\n",
       "      <td>54.322034</td>\n",
       "      <td>63.636364</td>\n",
       "      <td>70.124361</td>\n",
       "    </tr>\n",
       "    <tr>\n",
       "      <th>2</th>\n",
       "      <td>Squirrel Hill South</td>\n",
       "      <td>86.124402</td>\n",
       "      <td>54.406780</td>\n",
       "      <td>45.454545</td>\n",
       "      <td>64.408158</td>\n",
       "    </tr>\n",
       "    <tr>\n",
       "      <th>3</th>\n",
       "      <td>Carrick</td>\n",
       "      <td>76.076555</td>\n",
       "      <td>93.474576</td>\n",
       "      <td>18.181818</td>\n",
       "      <td>63.927540</td>\n",
       "    </tr>\n",
       "    <tr>\n",
       "      <th>4</th>\n",
       "      <td>Brookline</td>\n",
       "      <td>82.057416</td>\n",
       "      <td>85.000000</td>\n",
       "      <td>18.181818</td>\n",
       "      <td>63.777512</td>\n",
       "    </tr>\n",
       "    <tr>\n",
       "      <th>5</th>\n",
       "      <td>Homewood North</td>\n",
       "      <td>85.645933</td>\n",
       "      <td>83.135593</td>\n",
       "      <td>9.090909</td>\n",
       "      <td>61.926324</td>\n",
       "    </tr>\n",
       "    <tr>\n",
       "      <th>6</th>\n",
       "      <td>Swisshelm Park</td>\n",
       "      <td>100.000000</td>\n",
       "      <td>54.406780</td>\n",
       "      <td>18.181818</td>\n",
       "      <td>61.776579</td>\n",
       "    </tr>\n",
       "    <tr>\n",
       "      <th>7</th>\n",
       "      <td>Hazelwood</td>\n",
       "      <td>86.363636</td>\n",
       "      <td>44.576271</td>\n",
       "      <td>45.454545</td>\n",
       "      <td>61.554700</td>\n",
       "    </tr>\n",
       "    <tr>\n",
       "      <th>8</th>\n",
       "      <td>Sheraden</td>\n",
       "      <td>85.406699</td>\n",
       "      <td>44.661017</td>\n",
       "      <td>45.454545</td>\n",
       "      <td>61.197348</td>\n",
       "    </tr>\n",
       "    <tr>\n",
       "      <th>9</th>\n",
       "      <td>Point Breeze</td>\n",
       "      <td>98.325359</td>\n",
       "      <td>16.694915</td>\n",
       "      <td>54.545455</td>\n",
       "      <td>60.702254</td>\n",
       "    </tr>\n",
       "  </tbody>\n",
       "</table>\n",
       "</div>"
      ],
      "text/plain": [
       "          Neighborhood  Arrest_score  K12_score  Park_score  Total_score\n",
       "0         East Liberty     81.100478  50.762712  100.000000    77.669005\n",
       "1            Beechview     86.842105  54.322034   63.636364    70.124361\n",
       "2  Squirrel Hill South     86.124402  54.406780   45.454545    64.408158\n",
       "3              Carrick     76.076555  93.474576   18.181818    63.927540\n",
       "4            Brookline     82.057416  85.000000   18.181818    63.777512\n",
       "5       Homewood North     85.645933  83.135593    9.090909    61.926324\n",
       "6       Swisshelm Park    100.000000  54.406780   18.181818    61.776579\n",
       "7            Hazelwood     86.363636  44.576271   45.454545    61.554700\n",
       "8             Sheraden     85.406699  44.661017   45.454545    61.197348\n",
       "9         Point Breeze     98.325359  16.694915   54.545455    60.702254"
      ]
     },
     "execution_count": 2,
     "metadata": {},
     "output_type": "execute_result"
    }
   ],
   "source": [
    "import pandas as pd\n",
    "\n",
    "best_neighborhood = pd.read_csv(\"best_neighborhoods.csv\")\n",
    "best_neighborhood.head(10)"
   ]
  },
  {
   "cell_type": "markdown",
   "metadata": {},
   "source": [
    "### Conclusion\n",
    "Based on the total score, we determined that East Liberty is the best neighborhood in Pittsburgh according to our criteria. This is because it has the highest number of parks in Pittsburgh. However, if safety or education level is considered to be more significant, then Beechview and Squirrel Hill South are better options."
   ]
  }
 ],
 "metadata": {
  "kernelspec": {
   "display_name": "Python 3",
   "language": "python",
   "name": "python3"
  },
  "language_info": {
   "codemirror_mode": {
    "name": "ipython",
    "version": 3
   },
   "file_extension": ".py",
   "mimetype": "text/x-python",
   "name": "python",
   "nbconvert_exporter": "python",
   "pygments_lexer": "ipython3",
   "version": "3.8.3"
  }
 },
 "nbformat": 4,
 "nbformat_minor": 4
}
